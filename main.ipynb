{
 "cells": [
  {
   "cell_type": "code",
   "execution_count": 158,
   "metadata": {},
   "outputs": [
    {
     "name": "stdout",
     "output_type": "stream",
     "text": [
      "[[ 1 -1 -1  1 -1  1 -1 -1  1  1]\n",
      " [-1 -1  1 -1  1  1  1  1  1  1]\n",
      " [-1 -1 -1  1  1  1 -1  1 -1  1]\n",
      " [ 1  1 -1  1 -1  1  1 -1 -1  1]\n",
      " [ 1  1  1 -1  1  1 -1  1  1 -1]\n",
      " [ 1 -1  1 -1 -1 -1 -1  1  1  1]\n",
      " [ 1  1 -1  1 -1 -1 -1  1  1 -1]\n",
      " [ 1  1  1 -1 -1  1  1  1  1  1]\n",
      " [ 1  1 -1 -1  1  1  1 -1  1  1]\n",
      " [-1  1 -1  1 -1 -1 -1 -1  1  1]]\n"
     ]
    }
   ],
   "source": [
    "import numpy as np\n",
    "\n",
    "\n",
    "def create_random_config(N):\n",
    "    \"\"\"Create spin configuration of NxN lattice\"\"\"\n",
    "    return 2 * np.random.randint(2, size=(N, N)) - 1\n",
    "\n",
    "# better way:\n",
    "# https://tanyaschlusser.github.io/posts/mcmc-and-the-ising-model/\n",
    "def get_dH(lattice, trial_location):\n",
    "    \"\"\" H = - Sum_<ij>(s_i s_j) \"\"\"\n",
    "    i, j = trial_location\n",
    "    height, width = lattice.shape\n",
    "    H, Hflip = 0, 0\n",
    "    for di, dj in ((-1, 0), (1, 0), (0, -1), (0, 1)):\n",
    "        ii = (i + di) % height\n",
    "        jj = (j + dj) % width\n",
    "        H -= lattice[ii, jj] * lattice[i, j]\n",
    "        Hflip += lattice[ii, jj] * lattice[i, j]\n",
    "    return Hflip - H\n",
    "\n",
    "\n",
    "def neighbours_sum(lattice, i, j):\n",
    "    (N, _) = lattice.shape\n",
    "    up = (i, (j-1)%N)\n",
    "    left = ((i-1)%N, j)\n",
    "    right = ((i+1)%N, j)\n",
    "    down = (i, (j+1)%N)\n",
    "    s = lattice[up] + lattice[down] + lattice[left] + lattice[right]\n",
    "    return  s\n",
    "\n",
    "def step(lattice, beta):\n",
    "    # Pick a random position in a lattice\n",
    "    (N, _) = lattice.shape\n",
    "    indices = np.random.randint(0, high=N, size=2)\n",
    "    i, j = indices[0], indices[1]\n",
    "    entry = lattice[i, j]\n",
    "    n = neighbours_sum(lattice, i, j)\n",
    "    return entry\n",
    "    \n",
    "# # Request two random integers between 0 and 3 (exclusive)\n",
    "# indices =  np.random.randint(0, high=3, size=2)\n",
    "\n",
    "# # Extract the row and column indices\n",
    "# i = indices[0]\n",
    "# j = indices[1]\n",
    "\n",
    "# # Put 2 at the random position\n",
    "# grid[i,j] = 2   \n",
    "\n",
    "config = create_random_config(N=10)\n",
    "print(config)\n"
   ]
  },
  {
   "cell_type": "code",
   "execution_count": 159,
   "metadata": {},
   "outputs": [
    {
     "name": "stdout",
     "output_type": "stream",
     "text": [
      "-2\n"
     ]
    }
   ],
   "source": [
    "print(neighbours_sum(config, 3, 3))"
   ]
  },
  {
   "cell_type": "code",
   "execution_count": 143,
   "metadata": {},
   "outputs": [
    {
     "data": {
      "text/plain": [
       "9"
      ]
     },
     "execution_count": 143,
     "metadata": {},
     "output_type": "execute_result"
    }
   ],
   "source": [
    "a[(0,0)]"
   ]
  }
 ],
 "metadata": {
  "kernelspec": {
   "display_name": "Python 3",
   "language": "python",
   "name": "python3"
  },
  "language_info": {
   "codemirror_mode": {
    "name": "ipython",
    "version": 3
   },
   "file_extension": ".py",
   "mimetype": "text/x-python",
   "name": "python",
   "nbconvert_exporter": "python",
   "pygments_lexer": "ipython3",
   "version": "3.7.1"
  }
 },
 "nbformat": 4,
 "nbformat_minor": 2
}
